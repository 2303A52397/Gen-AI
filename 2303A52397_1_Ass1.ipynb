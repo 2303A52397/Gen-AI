{
  "nbformat": 4,
  "nbformat_minor": 0,
  "metadata": {
    "colab": {
      "provenance": [],
      "authorship_tag": "ABX9TyO3f+PhFci0AGN+lSbhXa5G",
      "include_colab_link": true
    },
    "kernelspec": {
      "name": "python3",
      "display_name": "Python 3"
    },
    "language_info": {
      "name": "python"
    }
  },
  "cells": [
    {
      "cell_type": "markdown",
      "metadata": {
        "id": "view-in-github",
        "colab_type": "text"
      },
      "source": [
        "<a href=\"https://colab.research.google.com/github/2303A52397/Gen-AI/blob/main/2303A52397_1_Ass1.ipynb\" target=\"_parent\"><img src=\"https://colab.research.google.com/assets/colab-badge.svg\" alt=\"Open In Colab\"/></a>"
      ]
    },
    {
      "cell_type": "code",
      "source": [
        "actual_values = [20,30,40,50,60]\n",
        "predicted_values = [20.5,30.3,40.2,50.6,60.7]\n",
        "\n",
        "\n",
        "# Calculate Mean Absolute Error (MAE)\n",
        "def mean_absolute_error(actual, predicted):\n",
        "    total_error = 0\n",
        "    for a, p in zip(actual, predicted):\n",
        "        total_error += abs(a - p)\n",
        "    return total_error / len(actual)\n",
        "\n",
        "# Calculate Mean Squared Error (MSE)\n",
        "def mean_squared_error(actual, predicted):\n",
        "    total_error = 0\n",
        "    for a, p in zip(actual, predicted):\n",
        "        total_error += (a - p) ** 2\n",
        "    return total_error / len(actual)\n",
        "\n",
        "# Calculate Root Mean Squared Error (RMSE)\n",
        "def root_mean_squared_error(actual, predicted):\n",
        "    mse = mean_squared_error(actual, predicted)\n",
        "    return mse ** 0.5\n",
        "\n",
        "# Calculate error metrics\n",
        "mae = mean_absolute_error(actual_values, predicted_values)\n",
        "mse = mean_squared_error(actual_values, predicted_values)\n",
        "rmse = root_mean_squared_error(actual_values, predicted_values)\n",
        "\n",
        "# Display results\n",
        "print(\"Mean Absolute Error (MAE):\", mae)\n",
        "print(\"Mean Squared Error (MSE):\", mse)\n",
        "print(\"Root Mean Squared Error (RMSE):\", rmse)"
      ],
      "metadata": {
        "colab": {
          "base_uri": "https://localhost:8080/"
        },
        "id": "aLQWXT00Ahfr",
        "outputId": "bc70135f-d98c-415e-fa69-a08abb6fdcd6"
      },
      "execution_count": null,
      "outputs": [
        {
          "output_type": "stream",
          "name": "stdout",
          "text": [
            "Mean Absolute Error (MAE): 0.4600000000000016\n",
            "Mean Squared Error (MSE): 0.24600000000000147\n",
            "Root Mean Squared Error (RMSE): 0.49598387070549127\n"
          ]
        }
      ]
    },
    {
      "cell_type": "code",
      "source": [
        "from sklearn.metrics import accuracy_score, precision_score, recall_score, f1_score\n",
        "from collections import Counter\n",
        "\n",
        "# Table 2 values\n",
        "y_actual = [0, 0, 1, 1, 2, 0, 0, 0, 1, 0, 2, 0, 0, 1, 1, 2, 2, 1, 0, 2, 1, 0, 2, 2]\n",
        "y_pred =   [0, 0, 1, 0, 2, 0, 0, 1, 1, 2, 2, 2, 0, 2, 1, 0, 2, 2, 0, 2, 1, 2, 2, 2]\n",
        "\n",
        "# From scratch\n",
        "def accuracy(y_true, y_pred):\n",
        "    correct = sum(yt == yp for yt, yp in zip(y_true, y_pred))\n",
        "    return correct / len(y_true)\n",
        "\n",
        "print(\"From Scratch:\")\n",
        "print(f\"Accuracy: {accuracy(y_actual, y_pred):.4f}\")\n",
        "\n",
        "# For other metrics, use sklearn (from scratch precision/recall is complex per class)\n",
        "print(\"\\nUsing Sklearn:\")\n",
        "print(f\"Accuracy:  {accuracy_score(y_actual, y_pred):.4f}\")\n",
        "print(f\"Precision: {precision_score(y_actual, y_pred, average='macro'):.4f}\")\n",
        "print(f\"Recall:    {recall_score(y_actual, y_pred, average='macro'):.4f}\")\n",
        "print(f\"F1 Score:  {f1_score(y_actual, y_pred, average='macro'):.4f}\")\n"
      ],
      "metadata": {
        "colab": {
          "base_uri": "https://localhost:8080/"
        },
        "id": "CiNrdVXlzfLv",
        "outputId": "589b0f9d-ca1c-405c-fb8b-9dbea979f241"
      },
      "execution_count": 1,
      "outputs": [
        {
          "output_type": "stream",
          "name": "stdout",
          "text": [
            "From Scratch:\n",
            "Accuracy: 0.6667\n",
            "\n",
            "Using Sklearn:\n",
            "Accuracy:  0.6667\n",
            "Precision: 0.6985\n",
            "Recall:    0.6762\n",
            "F1 Score:  0.6667\n"
          ]
        }
      ]
    }
  ]
}